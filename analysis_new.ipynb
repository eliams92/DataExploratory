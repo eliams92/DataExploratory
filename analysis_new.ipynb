{
 "cells": [
  {
   "cell_type": "code",
   "execution_count": 2,
   "id": "55ee3134",
   "metadata": {},
   "outputs": [],
   "source": [
    "import numpy as np\n",
    "import pandas as pd\n",
    "from matplotlib import pyplot as plt\n",
    "import plotly.graph_objects as go\n",
    "from palettable.colorbrewer.qualitative import Set1_4\n",
    "import seaborn as sns\n",
    "import pylab\n",
    "pylab.rcParams['figure.figsize'] = (8, 5)"
   ]
  },
  {
   "cell_type": "code",
   "execution_count": 3,
   "id": "5513d8a0",
   "metadata": {},
   "outputs": [],
   "source": [
    "df=pd.read_excel(r\"/home/tania/Documents/skill_development/seb/alerts.xlsx\")\n"
   ]
  },
  {
   "cell_type": "markdown",
   "id": "9a6d1994",
   "metadata": {},
   "source": [
    "# Data Exploratory analysis\n"
   ]
  },
  {
   "cell_type": "code",
   "execution_count": 4,
   "id": "0e11864d",
   "metadata": {
    "scrolled": true
   },
   "outputs": [
    {
     "data": {
      "text/html": [
       "<div>\n",
       "<style scoped>\n",
       "    .dataframe tbody tr th:only-of-type {\n",
       "        vertical-align: middle;\n",
       "    }\n",
       "\n",
       "    .dataframe tbody tr th {\n",
       "        vertical-align: top;\n",
       "    }\n",
       "\n",
       "    .dataframe thead th {\n",
       "        text-align: right;\n",
       "    }\n",
       "</style>\n",
       "<table border=\"1\" class=\"dataframe\">\n",
       "  <thead>\n",
       "    <tr style=\"text-align: right;\">\n",
       "      <th></th>\n",
       "      <th>Unnamed: 0</th>\n",
       "      <th>intID</th>\n",
       "      <th>AlertType</th>\n",
       "      <th>AlertState</th>\n",
       "      <th>DateCreated</th>\n",
       "      <th>DateClosed</th>\n",
       "      <th>CaseOpen</th>\n",
       "      <th>CaseClosed</th>\n",
       "      <th>CaseReported</th>\n",
       "      <th>CaseState</th>\n",
       "      <th>PEP</th>\n",
       "      <th>CusRiskCategory</th>\n",
       "      <th>Type</th>\n",
       "      <th>IndustryCode</th>\n",
       "    </tr>\n",
       "  </thead>\n",
       "  <tbody>\n",
       "    <tr>\n",
       "      <th>0</th>\n",
       "      <td>1489.0</td>\n",
       "      <td>1489</td>\n",
       "      <td>New Destinations with high turnover</td>\n",
       "      <td>Data Created</td>\n",
       "      <td>2014-04-25 00:00:00.000</td>\n",
       "      <td>NaN</td>\n",
       "      <td>2014-05-12 09:07:39.000</td>\n",
       "      <td>2014-05-12 10:00:59.627</td>\n",
       "      <td>NaN</td>\n",
       "      <td>Closed</td>\n",
       "      <td>N</td>\n",
       "      <td>Lower Risk</td>\n",
       "      <td>pb</td>\n",
       "      <td>NaN</td>\n",
       "    </tr>\n",
       "    <tr>\n",
       "      <th>1</th>\n",
       "      <td>1490.0</td>\n",
       "      <td>1490</td>\n",
       "      <td>New Destinations with high turnover</td>\n",
       "      <td>Data Created</td>\n",
       "      <td>2014-04-25 00:00:00.000</td>\n",
       "      <td>NaN</td>\n",
       "      <td>2014-05-12 09:13:17.000</td>\n",
       "      <td>2014-05-12 09:29:29.790</td>\n",
       "      <td>NaN</td>\n",
       "      <td>Closed</td>\n",
       "      <td>N</td>\n",
       "      <td>Medium Risk</td>\n",
       "      <td>pb</td>\n",
       "      <td>NaN</td>\n",
       "    </tr>\n",
       "    <tr>\n",
       "      <th>2</th>\n",
       "      <td>1491.0</td>\n",
       "      <td>1491</td>\n",
       "      <td>New Destinations with high turnover</td>\n",
       "      <td>Data Created</td>\n",
       "      <td>2014-04-25 00:00:00.000</td>\n",
       "      <td>NaN</td>\n",
       "      <td>2014-05-12 09:07:39.000</td>\n",
       "      <td>2014-05-12 10:00:59.627</td>\n",
       "      <td>NaN</td>\n",
       "      <td>Closed</td>\n",
       "      <td>N</td>\n",
       "      <td>Lower Risk</td>\n",
       "      <td>pb</td>\n",
       "      <td>NaN</td>\n",
       "    </tr>\n",
       "    <tr>\n",
       "      <th>3</th>\n",
       "      <td>1492.0</td>\n",
       "      <td>1492</td>\n",
       "      <td>New Destinations with high turnover</td>\n",
       "      <td>Data Created</td>\n",
       "      <td>2014-04-29 00:00:00.000</td>\n",
       "      <td>NaN</td>\n",
       "      <td>2014-05-12 09:07:39.000</td>\n",
       "      <td>2014-05-12 10:00:59.627</td>\n",
       "      <td>NaN</td>\n",
       "      <td>Closed</td>\n",
       "      <td>N</td>\n",
       "      <td>Lower Risk</td>\n",
       "      <td>pb</td>\n",
       "      <td>NaN</td>\n",
       "    </tr>\n",
       "    <tr>\n",
       "      <th>4</th>\n",
       "      <td>1493.0</td>\n",
       "      <td>1493</td>\n",
       "      <td>New Destinations with high turnover</td>\n",
       "      <td>Data Created</td>\n",
       "      <td>2014-04-29 00:00:00.000</td>\n",
       "      <td>NaN</td>\n",
       "      <td>2014-05-12 09:07:39.000</td>\n",
       "      <td>2014-05-12 10:00:59.627</td>\n",
       "      <td>NaN</td>\n",
       "      <td>Closed</td>\n",
       "      <td>N</td>\n",
       "      <td>Medium Risk</td>\n",
       "      <td>pb</td>\n",
       "      <td>NaN</td>\n",
       "    </tr>\n",
       "  </tbody>\n",
       "</table>\n",
       "</div>"
      ],
      "text/plain": [
       "   Unnamed: 0  intID                            AlertType    AlertState  \\\n",
       "0      1489.0   1489  New Destinations with high turnover  Data Created   \n",
       "1      1490.0   1490  New Destinations with high turnover  Data Created   \n",
       "2      1491.0   1491  New Destinations with high turnover  Data Created   \n",
       "3      1492.0   1492  New Destinations with high turnover  Data Created   \n",
       "4      1493.0   1493  New Destinations with high turnover  Data Created   \n",
       "\n",
       "               DateCreated DateClosed                 CaseOpen  \\\n",
       "0  2014-04-25 00:00:00.000        NaN  2014-05-12 09:07:39.000   \n",
       "1  2014-04-25 00:00:00.000        NaN  2014-05-12 09:13:17.000   \n",
       "2  2014-04-25 00:00:00.000        NaN  2014-05-12 09:07:39.000   \n",
       "3  2014-04-29 00:00:00.000        NaN  2014-05-12 09:07:39.000   \n",
       "4  2014-04-29 00:00:00.000        NaN  2014-05-12 09:07:39.000   \n",
       "\n",
       "                CaseClosed CaseReported CaseState PEP CusRiskCategory Type  \\\n",
       "0  2014-05-12 10:00:59.627          NaN    Closed   N      Lower Risk   pb   \n",
       "1  2014-05-12 09:29:29.790          NaN    Closed   N     Medium Risk   pb   \n",
       "2  2014-05-12 10:00:59.627          NaN    Closed   N      Lower Risk   pb   \n",
       "3  2014-05-12 10:00:59.627          NaN    Closed   N      Lower Risk   pb   \n",
       "4  2014-05-12 10:00:59.627          NaN    Closed   N     Medium Risk   pb   \n",
       "\n",
       "   IndustryCode  \n",
       "0           NaN  \n",
       "1           NaN  \n",
       "2           NaN  \n",
       "3           NaN  \n",
       "4           NaN  "
      ]
     },
     "execution_count": 4,
     "metadata": {},
     "output_type": "execute_result"
    }
   ],
   "source": [
    "df.head()"
   ]
  },
  {
   "cell_type": "code",
   "execution_count": 5,
   "id": "1d5837ca",
   "metadata": {},
   "outputs": [
    {
     "data": {
      "text/html": [
       "<div>\n",
       "<style scoped>\n",
       "    .dataframe tbody tr th:only-of-type {\n",
       "        vertical-align: middle;\n",
       "    }\n",
       "\n",
       "    .dataframe tbody tr th {\n",
       "        vertical-align: top;\n",
       "    }\n",
       "\n",
       "    .dataframe thead th {\n",
       "        text-align: right;\n",
       "    }\n",
       "</style>\n",
       "<table border=\"1\" class=\"dataframe\">\n",
       "  <thead>\n",
       "    <tr style=\"text-align: right;\">\n",
       "      <th></th>\n",
       "      <th>Unnamed: 0</th>\n",
       "      <th>intID</th>\n",
       "      <th>AlertType</th>\n",
       "      <th>AlertState</th>\n",
       "      <th>DateCreated</th>\n",
       "      <th>DateClosed</th>\n",
       "      <th>CaseOpen</th>\n",
       "      <th>CaseClosed</th>\n",
       "      <th>CaseReported</th>\n",
       "      <th>CaseState</th>\n",
       "      <th>PEP</th>\n",
       "      <th>CusRiskCategory</th>\n",
       "      <th>Type</th>\n",
       "      <th>IndustryCode</th>\n",
       "    </tr>\n",
       "  </thead>\n",
       "  <tbody>\n",
       "    <tr>\n",
       "      <th>10172</th>\n",
       "      <td>3924.0</td>\n",
       "      <td>3924</td>\n",
       "      <td>New Destinations with high turnover</td>\n",
       "      <td>Closed - Not Suspicious</td>\n",
       "      <td>2017-12-19 00:00:00.000</td>\n",
       "      <td>2017-12-21 14:48:37.117</td>\n",
       "      <td>NaN</td>\n",
       "      <td>NaN</td>\n",
       "      <td>NaN</td>\n",
       "      <td>NaN</td>\n",
       "      <td>N</td>\n",
       "      <td>Medium Risk</td>\n",
       "      <td>pb</td>\n",
       "      <td>NaN</td>\n",
       "    </tr>\n",
       "    <tr>\n",
       "      <th>10173</th>\n",
       "      <td>21411.0</td>\n",
       "      <td>183371</td>\n",
       "      <td>Unusual behaviour</td>\n",
       "      <td>Closed - Not Suspicious</td>\n",
       "      <td>2021-08-18 00:00:00.000</td>\n",
       "      <td>2021-08-20 11:13:59.803</td>\n",
       "      <td>NaN</td>\n",
       "      <td>NaN</td>\n",
       "      <td>NaN</td>\n",
       "      <td>NaN</td>\n",
       "      <td>NaN</td>\n",
       "      <td>Higher Risk</td>\n",
       "      <td>lcfi</td>\n",
       "      <td>28110.0</td>\n",
       "    </tr>\n",
       "    <tr>\n",
       "      <th>10174</th>\n",
       "      <td>15707.0</td>\n",
       "      <td>17513</td>\n",
       "      <td>Credit Cards</td>\n",
       "      <td>Closed - Not Suspicious</td>\n",
       "      <td>2017-01-06 00:00:00.000</td>\n",
       "      <td>2017-01-09 18:50:33.967</td>\n",
       "      <td>NaN</td>\n",
       "      <td>NaN</td>\n",
       "      <td>NaN</td>\n",
       "      <td>NaN</td>\n",
       "      <td>NaN</td>\n",
       "      <td>Medium Risk</td>\n",
       "      <td>lcfi</td>\n",
       "      <td>NaN</td>\n",
       "    </tr>\n",
       "    <tr>\n",
       "      <th>10175</th>\n",
       "      <td>2368.0</td>\n",
       "      <td>2368</td>\n",
       "      <td>New Destinations with high turnover</td>\n",
       "      <td>Closed - Not Suspicious</td>\n",
       "      <td>2015-08-09 00:00:00.000</td>\n",
       "      <td>2015-08-10 07:30:22.187</td>\n",
       "      <td>NaN</td>\n",
       "      <td>NaN</td>\n",
       "      <td>NaN</td>\n",
       "      <td>NaN</td>\n",
       "      <td>N</td>\n",
       "      <td>Lower Risk</td>\n",
       "      <td>pb</td>\n",
       "      <td>NaN</td>\n",
       "    </tr>\n",
       "    <tr>\n",
       "      <th>10176</th>\n",
       "      <td>11780.0</td>\n",
       "      <td>3590</td>\n",
       "      <td>Check Countries List</td>\n",
       "      <td>Closed - Not Suspicious</td>\n",
       "      <td>2014-12-04 00:00:00.000</td>\n",
       "      <td>2015-01-23 13:44:32.720</td>\n",
       "      <td>NaN</td>\n",
       "      <td>NaN</td>\n",
       "      <td>NaN</td>\n",
       "      <td>NaN</td>\n",
       "      <td>NaN</td>\n",
       "      <td>Higher Risk</td>\n",
       "      <td>lcfi</td>\n",
       "      <td>NaN</td>\n",
       "    </tr>\n",
       "  </tbody>\n",
       "</table>\n",
       "</div>"
      ],
      "text/plain": [
       "       Unnamed: 0   intID                            AlertType  \\\n",
       "10172      3924.0    3924  New Destinations with high turnover   \n",
       "10173     21411.0  183371                    Unusual behaviour   \n",
       "10174     15707.0   17513                         Credit Cards   \n",
       "10175      2368.0    2368  New Destinations with high turnover   \n",
       "10176     11780.0    3590                 Check Countries List   \n",
       "\n",
       "                    AlertState              DateCreated  \\\n",
       "10172  Closed - Not Suspicious  2017-12-19 00:00:00.000   \n",
       "10173  Closed - Not Suspicious  2021-08-18 00:00:00.000   \n",
       "10174  Closed - Not Suspicious  2017-01-06 00:00:00.000   \n",
       "10175  Closed - Not Suspicious  2015-08-09 00:00:00.000   \n",
       "10176  Closed - Not Suspicious  2014-12-04 00:00:00.000   \n",
       "\n",
       "                    DateClosed CaseOpen CaseClosed CaseReported CaseState  \\\n",
       "10172  2017-12-21 14:48:37.117      NaN        NaN          NaN       NaN   \n",
       "10173  2021-08-20 11:13:59.803      NaN        NaN          NaN       NaN   \n",
       "10174  2017-01-09 18:50:33.967      NaN        NaN          NaN       NaN   \n",
       "10175  2015-08-10 07:30:22.187      NaN        NaN          NaN       NaN   \n",
       "10176  2015-01-23 13:44:32.720      NaN        NaN          NaN       NaN   \n",
       "\n",
       "       PEP CusRiskCategory  Type  IndustryCode  \n",
       "10172    N     Medium Risk    pb           NaN  \n",
       "10173  NaN     Higher Risk  lcfi       28110.0  \n",
       "10174  NaN     Medium Risk  lcfi           NaN  \n",
       "10175    N      Lower Risk    pb           NaN  \n",
       "10176  NaN     Higher Risk  lcfi           NaN  "
      ]
     },
     "execution_count": 5,
     "metadata": {},
     "output_type": "execute_result"
    }
   ],
   "source": [
    "df.tail()"
   ]
  },
  {
   "cell_type": "code",
   "execution_count": 6,
   "id": "78ab7b6d",
   "metadata": {},
   "outputs": [
    {
     "data": {
      "text/plain": [
       "(10177, 14)"
      ]
     },
     "execution_count": 6,
     "metadata": {},
     "output_type": "execute_result"
    }
   ],
   "source": [
    "df.shape"
   ]
  },
  {
   "cell_type": "code",
   "execution_count": 7,
   "id": "f1e36e0f",
   "metadata": {},
   "outputs": [
    {
     "data": {
      "text/html": [
       "<div>\n",
       "<style scoped>\n",
       "    .dataframe tbody tr th:only-of-type {\n",
       "        vertical-align: middle;\n",
       "    }\n",
       "\n",
       "    .dataframe tbody tr th {\n",
       "        vertical-align: top;\n",
       "    }\n",
       "\n",
       "    .dataframe thead th {\n",
       "        text-align: right;\n",
       "    }\n",
       "</style>\n",
       "<table border=\"1\" class=\"dataframe\">\n",
       "  <thead>\n",
       "    <tr style=\"text-align: right;\">\n",
       "      <th></th>\n",
       "      <th>Unnamed: 0</th>\n",
       "      <th>intID</th>\n",
       "      <th>AlertType</th>\n",
       "      <th>AlertState</th>\n",
       "      <th>DateCreated</th>\n",
       "      <th>DateClosed</th>\n",
       "      <th>CaseOpen</th>\n",
       "      <th>CaseClosed</th>\n",
       "      <th>CaseReported</th>\n",
       "      <th>CaseState</th>\n",
       "      <th>PEP</th>\n",
       "      <th>CusRiskCategory</th>\n",
       "      <th>Type</th>\n",
       "      <th>IndustryCode</th>\n",
       "    </tr>\n",
       "  </thead>\n",
       "  <tbody>\n",
       "  </tbody>\n",
       "</table>\n",
       "</div>"
      ],
      "text/plain": [
       "Empty DataFrame\n",
       "Columns: [Unnamed: 0, intID, AlertType, AlertState, DateCreated, DateClosed, CaseOpen, CaseClosed, CaseReported, CaseState, PEP, CusRiskCategory, Type, IndustryCode]\n",
       "Index: []"
      ]
     },
     "execution_count": 7,
     "metadata": {},
     "output_type": "execute_result"
    }
   ],
   "source": [
    "duplicated_values=df[df.duplicated()]\n",
    "duplicated_values\n",
    "#no duplicated values"
   ]
  },
  {
   "cell_type": "code",
   "execution_count": 8,
   "id": "9f47d4fe",
   "metadata": {},
   "outputs": [
    {
     "name": "stdout",
     "output_type": "stream",
     "text": [
      "<class 'pandas.core.frame.DataFrame'>\n",
      "RangeIndex: 10177 entries, 0 to 10176\n",
      "Data columns (total 14 columns):\n",
      " #   Column           Non-Null Count  Dtype  \n",
      "---  ------           --------------  -----  \n",
      " 0   Unnamed: 0       10177 non-null  float64\n",
      " 1   intID            10177 non-null  int64  \n",
      " 2   AlertType        10177 non-null  object \n",
      " 3   AlertState       10177 non-null  object \n",
      " 4   DateCreated      10177 non-null  object \n",
      " 5   DateClosed       9916 non-null   object \n",
      " 6   CaseOpen         256 non-null    object \n",
      " 7   CaseClosed       188 non-null    object \n",
      " 8   CaseReported     68 non-null     object \n",
      " 9   CaseState        256 non-null    object \n",
      " 10  PEP              2902 non-null   object \n",
      " 11  CusRiskCategory  10123 non-null  object \n",
      " 12  Type             10177 non-null  object \n",
      " 13  IndustryCode     2211 non-null   float64\n",
      "dtypes: float64(2), int64(1), object(11)\n",
      "memory usage: 1.1+ MB\n"
     ]
    }
   ],
   "source": [
    "df.info()\n",
    "#data set have missing values"
   ]
  },
  {
   "cell_type": "code",
   "execution_count": 9,
   "id": "6ef150ee",
   "metadata": {
    "scrolled": true
   },
   "outputs": [
    {
     "data": {
      "text/plain": [
       "lcfi    6337\n",
       "pb      3840\n",
       "Name: Type, dtype: int64"
      ]
     },
     "execution_count": 9,
     "metadata": {},
     "output_type": "execute_result"
    }
   ],
   "source": [
    "df['Type'].value_counts()"
   ]
  },
  {
   "cell_type": "code",
   "execution_count": 10,
   "id": "edc3273e",
   "metadata": {},
   "outputs": [
    {
     "name": "stdout",
     "output_type": "stream",
     "text": [
      "lcfi: 6337\n",
      "pb: 3840\n",
      "Customer distribution 1: 1.65\n",
      " \n",
      "Type\n",
      "lcfi    62.267859\n",
      "pb      37.732141\n",
      "Name: Type, dtype: float64\n"
     ]
    },
    {
     "data": {
      "image/png": "[encoded data removed]",
      "text/plain": [
       "<Figure size 400x300 with 1 Axes>"
      ]
     },
     "metadata": {},
     "output_type": "display_data"
    }
   ],
   "source": [
    "#print('Target distribution \"1\" и \"0\" in column \"Type\", legal and fraudulent transactions, respectively, pieces')\n",
    "target_count = df['Type'].value_counts()\n",
    "print('lcfi:', target_count[0])\n",
    "print('pb:', target_count[1])\n",
    "print('Customer distribution', '1:', round(target_count[0] / target_count[1], 2))\n",
    "print (' ')\n",
    "#print('Target distribution \"1\" и \"0\" in column \"Class\", legal and fraudulent transactions, respectively, %')\n",
    "print((df.groupby('Type')['Type'].count()/df['Type'].count())*100)\n",
    "\n",
    "\n",
    "pylab.rcParams['figure.figsize'] = (4, 3)\n",
    "target_count.plot(kind='pie', title='Distribution of customer type');\n",
    "#Customer portfolio is only slightly imbalanced"
   ]
  },
  {
   "cell_type": "code",
   "execution_count": 11,
   "id": "eea26b2b",
   "metadata": {},
   "outputs": [
    {
     "name": "stdout",
     "output_type": "stream",
     "text": [
      "Medium Risk      6986\n",
      "Lower Risk       1326\n",
      "Higher Risk      1183\n",
      "Not Specified     628\n",
      "Name: CusRiskCategory, dtype: int64\n",
      "Sum: 10123\n"
     ]
    }
   ],
   "source": [
    "target_count = df['CusRiskCategory'].value_counts()\n",
    "print(target_count)\n",
    "print(\"Sum:\",target_count.sum())\n",
    "#pylab.rcParams['figure.figsize'] = (4, 3)\n",
    "#target_count.plot(kind='pie', title='Distribution of risk type');"
   ]
  },
  {
   "cell_type": "code",
   "execution_count": 12,
   "id": "5d099fa0",
   "metadata": {},
   "outputs": [
    {
     "data": {
      "text/plain": [
       "<AxesSubplot:title={'center':'Percentage of risk holders'}, ylabel='CusRiskCategory'>"
      ]
     },
     "execution_count": 12,
     "metadata": {},
     "output_type": "execute_result"
    },
    {
     "data": {
      "image/png": "[encoded data removed]",
      "text/plain": [
       "<Figure size 400x300 with 1 Axes>"
      ]
     },
     "metadata": {},
     "output_type": "display_data"
    }
   ],
   "source": [
    "target_count_per=(df.groupby('CusRiskCategory')['CusRiskCategory'].count()/df['CusRiskCategory'].count())*100\n",
    "target_count_per.plot(kind='pie',title='Percentage of risk holders')\n",
    "#Customer portfolio is dominated by Medium risk account holders"
   ]
  },
  {
   "cell_type": "code",
   "execution_count": 13,
   "id": "9726a965",
   "metadata": {},
   "outputs": [],
   "source": [
    "df=df[[\"intID\",\"AlertType\",\"AlertState\",\"CusRiskCategory\",\"Type\",\"IndustryCode\"]]"
   ]
  },
  {
   "cell_type": "code",
   "execution_count": 14,
   "id": "cc295ebb",
   "metadata": {},
   "outputs": [
    {
     "data": {
      "text/plain": [
       "lcfi    6337\n",
       "pb      3840\n",
       "Name: Type, dtype: int64"
      ]
     },
     "execution_count": 14,
     "metadata": {},
     "output_type": "execute_result"
    }
   ],
   "source": [
    "df['Type'].value_counts()"
   ]
  },
  {
   "cell_type": "code",
   "execution_count": 15,
   "id": "d211cf86",
   "metadata": {},
   "outputs": [
    {
     "name": "stdout",
     "output_type": "stream",
     "text": [
      "<class 'pandas.core.frame.DataFrame'>\n",
      "RangeIndex: 10177 entries, 0 to 10176\n",
      "Data columns (total 6 columns):\n",
      " #   Column           Non-Null Count  Dtype  \n",
      "---  ------           --------------  -----  \n",
      " 0   intID            10177 non-null  int64  \n",
      " 1   AlertType        10177 non-null  object \n",
      " 2   AlertState       10177 non-null  object \n",
      " 3   CusRiskCategory  10123 non-null  object \n",
      " 4   Type             10177 non-null  object \n",
      " 5   IndustryCode     2211 non-null   float64\n",
      "dtypes: float64(1), int64(1), object(4)\n",
      "memory usage: 477.2+ KB\n"
     ]
    }
   ],
   "source": [
    "df.info()"
   ]
  },
  {
   "cell_type": "code",
   "execution_count": 16,
   "id": "5242f376",
   "metadata": {},
   "outputs": [
    {
     "name": "stderr",
     "output_type": "stream",
     "text": [
      "/home/tania/miniconda3/lib/python3.9/site-packages/seaborn/axisgrid.py:848: UserWarning: Ignoring `palette` because no `hue` variable has been assigned.\n",
      "  func(*plot_args, **plot_kwargs)\n",
      "/home/tania/miniconda3/lib/python3.9/site-packages/seaborn/axisgrid.py:848: UserWarning: Ignoring `palette` because no `hue` variable has been assigned.\n",
      "  func(*plot_args, **plot_kwargs)\n"
     ]
    },
    {
     "data": {
      "image/png": "[encoded data removed]",
      "text/plain": [
       "<Figure size 600x300 with 2 Axes>"
      ]
     },
     "metadata": {},
     "output_type": "display_data"
    }
   ],
   "source": [
    "#check dependence of data on intID and Industry Code\n",
    "sns.set_style(style='white')\n",
    "facet_grid = sns.FacetGrid(data=df, col='Type')\n",
    "facet_grid.map(sns.scatterplot, 'intID', 'IndustryCode', palette='Paired_r')\n",
    "plt.xlabel('intID')\n",
    "plt.ylabel('IndustryCode')\n",
    "plt.show()\n",
    "#intID and Industry Code are only important columns when the Customer is an LCFI"
   ]
  }
 ],
 "metadata": {
  "kernelspec": {
   "display_name": "Python 3 (ipykernel)",
   "language": "python",
   "name": "python3"
  },
  "language_info": {
   "codemirror_mode": {
    "name": "ipython",
    "version": 3
   },
   "file_extension": ".py",
   "mimetype": "text/x-python",
   "name": "python",
   "nbconvert_exporter": "python",
   "pygments_lexer": "ipython3",
   "version": "3.9.12"
  }
 },
 "nbformat": 4,
 "nbformat_minor": 5
}
